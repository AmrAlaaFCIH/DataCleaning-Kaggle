{
 "cells": [
  {
   "cell_type": "markdown",
   "id": "f863eb00",
   "metadata": {
    "papermill": {
     "duration": 0.006355,
     "end_time": "2022-06-27T18:10:54.014691",
     "exception": false,
     "start_time": "2022-06-27T18:10:54.008336",
     "status": "completed"
    },
    "tags": []
   },
   "source": [
    "**This notebook is an exercise in the [Data Cleaning](https://www.kaggle.com/learn/data-cleaning) course.  You can reference the tutorial at [this link](https://www.kaggle.com/alexisbcook/character-encodings).**\n",
    "\n",
    "---\n"
   ]
  },
  {
   "cell_type": "markdown",
   "id": "d23658e0",
   "metadata": {
    "papermill": {
     "duration": 0.005136,
     "end_time": "2022-06-27T18:10:54.025504",
     "exception": false,
     "start_time": "2022-06-27T18:10:54.020368",
     "status": "completed"
    },
    "tags": []
   },
   "source": [
    "In this exercise, you'll apply what you learned in the **Character encodings** tutorial.\n",
    "\n",
    "# Setup\n",
    "\n",
    "The questions below will give you feedback on your work. Run the following cell to set up the feedback system."
   ]
  },
  {
   "cell_type": "code",
   "execution_count": 1,
   "id": "78465265",
   "metadata": {
    "execution": {
     "iopub.execute_input": "2022-06-27T18:10:54.038553Z",
     "iopub.status.busy": "2022-06-27T18:10:54.038057Z",
     "iopub.status.idle": "2022-06-27T18:10:54.136012Z",
     "shell.execute_reply": "2022-06-27T18:10:54.134238Z"
    },
    "papermill": {
     "duration": 0.107847,
     "end_time": "2022-06-27T18:10:54.138915",
     "exception": false,
     "start_time": "2022-06-27T18:10:54.031068",
     "status": "completed"
    },
    "tags": []
   },
   "outputs": [
    {
     "name": "stdout",
     "output_type": "stream",
     "text": [
      "Setup Complete\n"
     ]
    }
   ],
   "source": [
    "from learntools.core import binder\n",
    "binder.bind(globals())\n",
    "from learntools.data_cleaning.ex4 import *\n",
    "print(\"Setup Complete\")"
   ]
  },
  {
   "cell_type": "markdown",
   "id": "75885275",
   "metadata": {
    "papermill": {
     "duration": 0.005959,
     "end_time": "2022-06-27T18:10:54.150744",
     "exception": false,
     "start_time": "2022-06-27T18:10:54.144785",
     "status": "completed"
    },
    "tags": []
   },
   "source": [
    "# Get our environment set up\n",
    "\n",
    "The first thing we'll need to do is load in the libraries we'll be using."
   ]
  },
  {
   "cell_type": "code",
   "execution_count": 2,
   "id": "ecec2bdb",
   "metadata": {
    "execution": {
     "iopub.execute_input": "2022-06-27T18:10:54.164940Z",
     "iopub.status.busy": "2022-06-27T18:10:54.164559Z",
     "iopub.status.idle": "2022-06-27T18:10:54.169545Z",
     "shell.execute_reply": "2022-06-27T18:10:54.168545Z"
    },
    "papermill": {
     "duration": 0.015222,
     "end_time": "2022-06-27T18:10:54.171737",
     "exception": false,
     "start_time": "2022-06-27T18:10:54.156515",
     "status": "completed"
    },
    "tags": []
   },
   "outputs": [],
   "source": [
    "# modules we'll use\n",
    "import pandas as pd\n",
    "import numpy as np\n",
    "\n",
    "# helpful character encoding module\n",
    "import chardet\n",
    "\n",
    "# set seed for reproducibility\n",
    "np.random.seed(0)"
   ]
  },
  {
   "cell_type": "markdown",
   "id": "84a77741",
   "metadata": {
    "papermill": {
     "duration": 0.005302,
     "end_time": "2022-06-27T18:10:54.182589",
     "exception": false,
     "start_time": "2022-06-27T18:10:54.177287",
     "status": "completed"
    },
    "tags": []
   },
   "source": [
    "# 1) What are encodings?\n",
    "\n",
    "You're working with a dataset composed of bytes.  Run the code cell below to print a sample entry."
   ]
  },
  {
   "cell_type": "code",
   "execution_count": 3,
   "id": "093ba3b7",
   "metadata": {
    "execution": {
     "iopub.execute_input": "2022-06-27T18:10:54.196189Z",
     "iopub.status.busy": "2022-06-27T18:10:54.195468Z",
     "iopub.status.idle": "2022-06-27T18:10:54.201235Z",
     "shell.execute_reply": "2022-06-27T18:10:54.199825Z"
    },
    "papermill": {
     "duration": 0.015705,
     "end_time": "2022-06-27T18:10:54.203772",
     "exception": false,
     "start_time": "2022-06-27T18:10:54.188067",
     "status": "completed"
    },
    "tags": []
   },
   "outputs": [
    {
     "name": "stdout",
     "output_type": "stream",
     "text": [
      "b'\\xa7A\\xa6n'\n",
      "data type: <class 'bytes'>\n"
     ]
    }
   ],
   "source": [
    "sample_entry = b'\\xa7A\\xa6n'\n",
    "print(sample_entry)\n",
    "print('data type:', type(sample_entry))"
   ]
  },
  {
   "cell_type": "markdown",
   "id": "61b2a18c",
   "metadata": {
    "papermill": {
     "duration": 0.005272,
     "end_time": "2022-06-27T18:10:54.214598",
     "exception": false,
     "start_time": "2022-06-27T18:10:54.209326",
     "status": "completed"
    },
    "tags": []
   },
   "source": [
    "You notice that it doesn't use the standard UTF-8 encoding. \n",
    "\n",
    "Use the next code cell to create a variable `new_entry` that changes the encoding from `\"big5-tw\"` to `\"utf-8\"`.  `new_entry` should have the bytes datatype."
   ]
  },
  {
   "cell_type": "code",
   "execution_count": 4,
   "id": "8543f8e2",
   "metadata": {
    "execution": {
     "iopub.execute_input": "2022-06-27T18:10:54.227724Z",
     "iopub.status.busy": "2022-06-27T18:10:54.226994Z",
     "iopub.status.idle": "2022-06-27T18:10:54.237601Z",
     "shell.execute_reply": "2022-06-27T18:10:54.236772Z"
    },
    "papermill": {
     "duration": 0.019483,
     "end_time": "2022-06-27T18:10:54.239654",
     "exception": false,
     "start_time": "2022-06-27T18:10:54.220171",
     "status": "completed"
    },
    "tags": []
   },
   "outputs": [
    {
     "data": {
      "application/javascript": [
       "parent.postMessage({\"jupyterEvent\": \"custom.exercise_interaction\", \"data\": {\"outcomeType\": 1, \"valueTowardsCompletion\": 0.3333333333333333, \"interactionType\": 1, \"questionType\": 1, \"questionId\": \"1_EncodingsIntro\", \"learnToolsVersion\": \"0.3.4\", \"failureMessage\": \"\", \"exceptionClass\": \"\", \"trace\": \"\"}}, \"*\")"
      ],
      "text/plain": [
       "<IPython.core.display.Javascript object>"
      ]
     },
     "metadata": {},
     "output_type": "display_data"
    },
    {
     "data": {
      "text/markdown": [
       "<span style=\"color:#33cc33\">Correct</span>"
      ],
      "text/plain": [
       "Correct"
      ]
     },
     "metadata": {},
     "output_type": "display_data"
    }
   ],
   "source": [
    "new_entry = sample_entry.decode('big5-tw').encode(\"utf-8\")\n",
    "\n",
    "# Check your answer\n",
    "q1.check()"
   ]
  },
  {
   "cell_type": "code",
   "execution_count": 5,
   "id": "cf49dbbb",
   "metadata": {
    "execution": {
     "iopub.execute_input": "2022-06-27T18:10:54.253503Z",
     "iopub.status.busy": "2022-06-27T18:10:54.252773Z",
     "iopub.status.idle": "2022-06-27T18:10:54.256988Z",
     "shell.execute_reply": "2022-06-27T18:10:54.255855Z"
    },
    "papermill": {
     "duration": 0.013808,
     "end_time": "2022-06-27T18:10:54.259180",
     "exception": false,
     "start_time": "2022-06-27T18:10:54.245372",
     "status": "completed"
    },
    "tags": []
   },
   "outputs": [],
   "source": [
    "# Lines below will give you a hint or solution code\n",
    "#q1.hint()\n",
    "#q1.solution()"
   ]
  },
  {
   "cell_type": "markdown",
   "id": "6af40b23",
   "metadata": {
    "papermill": {
     "duration": 0.005445,
     "end_time": "2022-06-27T18:10:54.270465",
     "exception": false,
     "start_time": "2022-06-27T18:10:54.265020",
     "status": "completed"
    },
    "tags": []
   },
   "source": [
    "# 2) Reading in files with encoding problems\n",
    "\n",
    "Use the code cell below to read in this file at path `\"../input/fatal-police-shootings-in-the-us/PoliceKillingsUS.csv\"`.  \n",
    "\n",
    "Figure out what the correct encoding should be and read in the file to a DataFrame `police_killings`."
   ]
  },
  {
   "cell_type": "code",
   "execution_count": 6,
   "id": "228370f8",
   "metadata": {
    "execution": {
     "iopub.execute_input": "2022-06-27T18:10:54.284200Z",
     "iopub.status.busy": "2022-06-27T18:10:54.283472Z",
     "iopub.status.idle": "2022-06-27T18:10:54.992044Z",
     "shell.execute_reply": "2022-06-27T18:10:54.990026Z"
    },
    "papermill": {
     "duration": 0.718549,
     "end_time": "2022-06-27T18:10:54.994785",
     "exception": false,
     "start_time": "2022-06-27T18:10:54.276236",
     "status": "completed"
    },
    "tags": []
   },
   "outputs": [
    {
     "name": "stdout",
     "output_type": "stream",
     "text": [
      "{'encoding': 'Windows-1252', 'confidence': 0.73, 'language': ''}\n"
     ]
    }
   ],
   "source": [
    "with open(\"../input/fatal-police-shootings-in-the-us/PoliceKillingsUS.csv\",'rb') as file_reader:\n",
    "    print(chardet.detect(file_reader.read(30000)))"
   ]
  },
  {
   "cell_type": "code",
   "execution_count": 7,
   "id": "a4794444",
   "metadata": {
    "execution": {
     "iopub.execute_input": "2022-06-27T18:10:55.009498Z",
     "iopub.status.busy": "2022-06-27T18:10:55.008315Z",
     "iopub.status.idle": "2022-06-27T18:10:55.038367Z",
     "shell.execute_reply": "2022-06-27T18:10:55.036871Z"
    },
    "papermill": {
     "duration": 0.040016,
     "end_time": "2022-06-27T18:10:55.040920",
     "exception": false,
     "start_time": "2022-06-27T18:10:55.000904",
     "status": "completed"
    },
    "tags": []
   },
   "outputs": [
    {
     "data": {
      "application/javascript": [
       "parent.postMessage({\"jupyterEvent\": \"custom.exercise_interaction\", \"data\": {\"outcomeType\": 1, \"valueTowardsCompletion\": 0.3333333333333333, \"interactionType\": 1, \"questionType\": 1, \"questionId\": \"2_ReadIn\", \"learnToolsVersion\": \"0.3.4\", \"failureMessage\": \"\", \"exceptionClass\": \"\", \"trace\": \"\"}}, \"*\")"
      ],
      "text/plain": [
       "<IPython.core.display.Javascript object>"
      ]
     },
     "metadata": {},
     "output_type": "display_data"
    },
    {
     "data": {
      "text/markdown": [
       "<span style=\"color:#33cc33\">Correct</span>"
      ],
      "text/plain": [
       "Correct"
      ]
     },
     "metadata": {},
     "output_type": "display_data"
    }
   ],
   "source": [
    "# TODO: Load in the DataFrame correctly.\n",
    "police_killings = pd.read_csv(\"../input/fatal-police-shootings-in-the-us/PoliceKillingsUS.csv\",encoding=\"Windows-1252\")\n",
    "\n",
    "# Check your answer\n",
    "q2.check()"
   ]
  },
  {
   "cell_type": "markdown",
   "id": "239e2fea",
   "metadata": {
    "papermill": {
     "duration": 0.005929,
     "end_time": "2022-06-27T18:10:55.053038",
     "exception": false,
     "start_time": "2022-06-27T18:10:55.047109",
     "status": "completed"
    },
    "tags": []
   },
   "source": [
    "Feel free to use any additional code cells for supplemental work.  To get credit for finishing this question, you'll need to run `q2.check()` and get a result of **Correct**."
   ]
  },
  {
   "cell_type": "code",
   "execution_count": 8,
   "id": "0086d0d8",
   "metadata": {
    "execution": {
     "iopub.execute_input": "2022-06-27T18:10:55.068652Z",
     "iopub.status.busy": "2022-06-27T18:10:55.067555Z",
     "iopub.status.idle": "2022-06-27T18:10:55.072936Z",
     "shell.execute_reply": "2022-06-27T18:10:55.071830Z"
    },
    "papermill": {
     "duration": 0.015582,
     "end_time": "2022-06-27T18:10:55.075425",
     "exception": false,
     "start_time": "2022-06-27T18:10:55.059843",
     "status": "completed"
    },
    "tags": []
   },
   "outputs": [],
   "source": [
    "# (Optional) Use this code cell for any additional work."
   ]
  },
  {
   "cell_type": "code",
   "execution_count": 9,
   "id": "68fd10b0",
   "metadata": {
    "execution": {
     "iopub.execute_input": "2022-06-27T18:10:55.090673Z",
     "iopub.status.busy": "2022-06-27T18:10:55.089801Z",
     "iopub.status.idle": "2022-06-27T18:10:55.095472Z",
     "shell.execute_reply": "2022-06-27T18:10:55.094141Z"
    },
    "papermill": {
     "duration": 0.016162,
     "end_time": "2022-06-27T18:10:55.098018",
     "exception": false,
     "start_time": "2022-06-27T18:10:55.081856",
     "status": "completed"
    },
    "tags": []
   },
   "outputs": [],
   "source": [
    "# Lines below will give you a hint or solution code\n",
    "#q2.hint()\n",
    "#q2.solution()"
   ]
  },
  {
   "cell_type": "markdown",
   "id": "b166f73a",
   "metadata": {
    "papermill": {
     "duration": 0.006498,
     "end_time": "2022-06-27T18:10:55.111361",
     "exception": false,
     "start_time": "2022-06-27T18:10:55.104863",
     "status": "completed"
    },
    "tags": []
   },
   "source": [
    "# 3) Saving your files with UTF-8 encoding\n",
    "\n",
    "Save a version of the police killings dataset to CSV with UTF-8 encoding.  Your answer will be marked correct after saving this file.  \n",
    "\n",
    "Note: When using the `to_csv()` method, supply only the name of the file (e.g., `\"my_file.csv\"`).  This saves the file at the filepath `\"/kaggle/working/my_file.csv\"`."
   ]
  },
  {
   "cell_type": "code",
   "execution_count": 10,
   "id": "0ac233d6",
   "metadata": {
    "execution": {
     "iopub.execute_input": "2022-06-27T18:10:55.126345Z",
     "iopub.status.busy": "2022-06-27T18:10:55.125607Z",
     "iopub.status.idle": "2022-06-27T18:10:55.170526Z",
     "shell.execute_reply": "2022-06-27T18:10:55.169582Z"
    },
    "papermill": {
     "duration": 0.05511,
     "end_time": "2022-06-27T18:10:55.172874",
     "exception": false,
     "start_time": "2022-06-27T18:10:55.117764",
     "status": "completed"
    },
    "tags": []
   },
   "outputs": [
    {
     "data": {
      "application/javascript": [
       "parent.postMessage({\"jupyterEvent\": \"custom.exercise_interaction\", \"data\": {\"outcomeType\": 1, \"valueTowardsCompletion\": 0.3333333333333333, \"interactionType\": 1, \"questionType\": 2, \"questionId\": \"3_SaveCSV\", \"learnToolsVersion\": \"0.3.4\", \"failureMessage\": \"\", \"exceptionClass\": \"\", \"trace\": \"\"}}, \"*\")"
      ],
      "text/plain": [
       "<IPython.core.display.Javascript object>"
      ]
     },
     "metadata": {},
     "output_type": "display_data"
    },
    {
     "data": {
      "text/markdown": [
       "<span style=\"color:#33cc33\">Correct</span>"
      ],
      "text/plain": [
       "Correct"
      ]
     },
     "metadata": {},
     "output_type": "display_data"
    }
   ],
   "source": [
    "# TODO: Save the police killings dataset to CSV\n",
    "police_killings.to_csv(\"/kaggle/working/my_file.csv\")\n",
    "\n",
    "# Check your answer\n",
    "q3.check()"
   ]
  },
  {
   "cell_type": "code",
   "execution_count": 11,
   "id": "42142ebd",
   "metadata": {
    "execution": {
     "iopub.execute_input": "2022-06-27T18:10:55.188758Z",
     "iopub.status.busy": "2022-06-27T18:10:55.188317Z",
     "iopub.status.idle": "2022-06-27T18:10:55.193485Z",
     "shell.execute_reply": "2022-06-27T18:10:55.191926Z"
    },
    "papermill": {
     "duration": 0.016307,
     "end_time": "2022-06-27T18:10:55.196118",
     "exception": false,
     "start_time": "2022-06-27T18:10:55.179811",
     "status": "completed"
    },
    "tags": []
   },
   "outputs": [],
   "source": [
    "# Lines below will give you a hint or solution code\n",
    "#q3.hint()\n",
    "#q3.solution()"
   ]
  },
  {
   "cell_type": "markdown",
   "id": "d10700a9",
   "metadata": {
    "papermill": {
     "duration": 0.006612,
     "end_time": "2022-06-27T18:10:55.209550",
     "exception": false,
     "start_time": "2022-06-27T18:10:55.202938",
     "status": "completed"
    },
    "tags": []
   },
   "source": [
    "# (Optional) More practice\n",
    "\n",
    "Check out [this dataset of files in different character encodings](https://www.kaggle.com/rtatman/character-encoding-examples). Can you read in all the files with their original encodings and them save them out as UTF-8 files?\n",
    "\n",
    "If you have a file that's in UTF-8 but has just a couple of weird-looking characters in it, you can try out the [ftfy module](https://ftfy.readthedocs.io/en/latest/#) and see if it helps. \n",
    "\n",
    "# Keep going\n",
    "\n",
    "In the final lesson, learn how to [**clean up inconsistent text entries**](https://www.kaggle.com/alexisbcook/inconsistent-data-entry) in your dataset."
   ]
  },
  {
   "cell_type": "markdown",
   "id": "f1b2210f",
   "metadata": {
    "papermill": {
     "duration": 0.006269,
     "end_time": "2022-06-27T18:10:55.222593",
     "exception": false,
     "start_time": "2022-06-27T18:10:55.216324",
     "status": "completed"
    },
    "tags": []
   },
   "source": [
    "---\n",
    "\n",
    "\n",
    "\n",
    "\n",
    "*Have questions or comments? Visit the [course discussion forum](https://www.kaggle.com/learn/data-cleaning/discussion) to chat with other learners.*"
   ]
  }
 ],
 "metadata": {
  "kernelspec": {
   "display_name": "Python 3",
   "language": "python",
   "name": "python3"
  },
  "language_info": {
   "codemirror_mode": {
    "name": "ipython",
    "version": 3
   },
   "file_extension": ".py",
   "mimetype": "text/x-python",
   "name": "python",
   "nbconvert_exporter": "python",
   "pygments_lexer": "ipython3",
   "version": "3.7.12"
  },
  "papermill": {
   "default_parameters": {},
   "duration": 13.422519,
   "end_time": "2022-06-27T18:10:55.952159",
   "environment_variables": {},
   "exception": null,
   "input_path": "__notebook__.ipynb",
   "output_path": "__notebook__.ipynb",
   "parameters": {},
   "start_time": "2022-06-27T18:10:42.529640",
   "version": "2.3.4"
  }
 },
 "nbformat": 4,
 "nbformat_minor": 5
}
